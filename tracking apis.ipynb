{
 "cells": [
  {
   "cell_type": "code",
   "execution_count": 1,
   "metadata": {},
   "outputs": [],
   "source": [
    "import numpy as np\n",
    "import cv2\n"
   ]
  },
  {
   "cell_type": "code",
   "execution_count": 2,
   "metadata": {},
   "outputs": [],
   "source": [
    "def ask_for_tracker():\n",
    "    print('BOOSTING \\n MIL \\n KCF \\n TLD \\n MEDIANFLOW\\n')\n",
    "    choice=input('choice:')\n",
    "    if choice=='0':\n",
    "        tracker=cv2.TrackerBoosting_create()\n",
    "    if choice=='1':\n",
    "        tracker=cv2.TrackerMIL_create()\n",
    "    if choice=='2':\n",
    "        tracker=cv2.TrackerKCF_create()\n",
    "    if choice=='3':\n",
    "        tracker=cv2.TrackerTLD_create()\n",
    "    if choice=='4':\n",
    "        tracker=cv2.TrackerMedianFlow_create()\n",
    "    return tracker"
   ]
  },
  {
   "cell_type": "code",
   "execution_count": 3,
   "metadata": {},
   "outputs": [
    {
     "name": "stdout",
     "output_type": "stream",
     "text": [
      "BOOSTING \n",
      " MIL \n",
      " KCF \n",
      " TLD \n",
      " MEDIANFLOW\n",
      "\n"
     ]
    },
    {
     "name": "stdin",
     "output_type": "stream",
     "text": [
      "choice: 4\n"
     ]
    }
   ],
   "source": [
    "tracker=ask_for_tracker()"
   ]
  },
  {
   "cell_type": "code",
   "execution_count": 4,
   "metadata": {},
   "outputs": [
    {
     "data": {
      "text/plain": [
       "'TrackerMedianFlow'"
      ]
     },
     "execution_count": 4,
     "metadata": {},
     "output_type": "execute_result"
    }
   ],
   "source": [
    "str(tracker).split()[0][1:]\n"
   ]
  },
  {
   "cell_type": "code",
   "execution_count": 6,
   "metadata": {},
   "outputs": [
    {
     "name": "stdout",
     "output_type": "stream",
     "text": [
      "BOOSTING \n",
      " MIL \n",
      " KCF \n",
      " TLD \n",
      " MEDIANFLOW\n",
      "\n"
     ]
    },
    {
     "name": "stdin",
     "output_type": "stream",
     "text": [
      "choice: 4\n"
     ]
    }
   ],
   "source": [
    "tracker=ask_for_tracker()\n",
    "tracker_name=str(tracker).split()[0][1:]\n",
    "cap=cv2.VideoCapture(0)\n",
    "ret,frame=cap.read()\n",
    "\n",
    "roi=cv2.selectROI(frame,False)\n",
    "\n",
    "ret=tracker.init(frame,roi)\n",
    "while True:\n",
    "    ret,frame=cap.read()\n",
    "    \n",
    "    success,roi=tracker.update(frame)\n",
    "    \n",
    "    (x,y,w,h)=tuple(map(int,roi))\n",
    "    \n",
    "    if success:\n",
    "        pt1=(x,y)\n",
    "        pt2=(x+w,y+h)\n",
    "        cv2.rectangle(frame,pt1,pt2,(0,255,0),4)\n",
    "    else:\n",
    "        cv2.putText(frame,'FAILED',(100,200),cv2.FONT_HERSHEY_COMPLEX,1,(0,255,0),3)\n",
    "        \n",
    "    cv2.putText(frame,tracker_name,(20,400),cv2.FONT_HERSHEY_COMPLEX,1,(0,255,0),3)\n",
    "    cv2.imshow(tracker_name,frame)\n",
    "    \n",
    "    k=cv2.waitKey(1)& 0xFF\n",
    "    \n",
    "    if k==27:\n",
    "        break\n",
    "\n",
    "cap.release()\n",
    "cv2.destroyAllWindows()\n",
    "        \n",
    "        \n",
    "        "
   ]
  },
  {
   "cell_type": "code",
   "execution_count": 11,
   "metadata": {},
   "outputs": [
    {
     "data": {
      "text/plain": [
       "array([[[0, 0, 0],\n",
       "        [0, 0, 0],\n",
       "        [0, 0, 0],\n",
       "        ...,\n",
       "        [0, 0, 0],\n",
       "        [0, 0, 0],\n",
       "        [0, 0, 0]],\n",
       "\n",
       "       [[0, 0, 0],\n",
       "        [0, 0, 0],\n",
       "        [0, 0, 0],\n",
       "        ...,\n",
       "        [0, 0, 0],\n",
       "        [0, 0, 0],\n",
       "        [0, 0, 0]],\n",
       "\n",
       "       [[0, 0, 0],\n",
       "        [0, 0, 0],\n",
       "        [0, 0, 0],\n",
       "        ...,\n",
       "        [0, 0, 0],\n",
       "        [0, 0, 0],\n",
       "        [0, 0, 0]],\n",
       "\n",
       "       ...,\n",
       "\n",
       "       [[0, 0, 0],\n",
       "        [0, 0, 0],\n",
       "        [0, 0, 0],\n",
       "        ...,\n",
       "        [0, 0, 0],\n",
       "        [0, 0, 0],\n",
       "        [0, 0, 0]],\n",
       "\n",
       "       [[0, 0, 0],\n",
       "        [0, 0, 0],\n",
       "        [0, 0, 0],\n",
       "        ...,\n",
       "        [0, 0, 0],\n",
       "        [0, 0, 0],\n",
       "        [0, 0, 0]],\n",
       "\n",
       "       [[0, 0, 0],\n",
       "        [0, 0, 0],\n",
       "        [0, 0, 0],\n",
       "        ...,\n",
       "        [0, 0, 0],\n",
       "        [0, 0, 0],\n",
       "        [0, 0, 0]]], dtype=uint8)"
      ]
     },
     "execution_count": 11,
     "metadata": {},
     "output_type": "execute_result"
    }
   ],
   "source": []
  },
  {
   "cell_type": "code",
   "execution_count": null,
   "metadata": {},
   "outputs": [],
   "source": []
  }
 ],
 "metadata": {
  "kernelspec": {
   "display_name": "Python 3",
   "language": "python",
   "name": "python3"
  },
  "language_info": {
   "codemirror_mode": {
    "name": "ipython",
    "version": 3
   },
   "file_extension": ".py",
   "mimetype": "text/x-python",
   "name": "python",
   "nbconvert_exporter": "python",
   "pygments_lexer": "ipython3",
   "version": "3.7.3"
  }
 },
 "nbformat": 4,
 "nbformat_minor": 2
}
